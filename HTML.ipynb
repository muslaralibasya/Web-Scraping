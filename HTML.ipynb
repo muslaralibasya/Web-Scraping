{
 "cells": [
  {
   "cell_type": "code",
   "execution_count": 1,
   "metadata": {},
   "outputs": [],
   "source": [
    "#install library and download webdriver\n",
    "from bs4 import BeautifulSoup\n",
    "import pandas as pd\n",
    "import numpy as np\n",
    "import re\n",
    "import time\n",
    "from datetime import datetime as dt\n",
    "from selenium import webdriver\n",
    "options = webdriver.ChromeOptions()\n",
    "options.add_argument('--headless')\n",
    "options.add_argument('--no-sandbox')\n",
    "options.add_argument('--disable-dev-shm-usage')\n",
    "driver = webdriver.Chrome('chromedriver',options=options)"
   ]
  },
  {
   "cell_type": "code",
   "execution_count": 2,
   "metadata": {},
   "outputs": [],
   "source": [
    "url = 'https://covid19.banglikab.go.id/'\n",
    "driver.get(url)\n",
    "time.sleep(3)\n",
    "content = driver.page_source\n",
    "soup = BeautifulSoup(content, \"html.parser\")\n",
    "div1 = soup.find_all('span', class_='counter')\n",
    "div2 = soup.find_all('div', class_='num-detail')"
   ]
  },
  {
   "cell_type": "code",
   "execution_count": 3,
   "metadata": {},
   "outputs": [],
   "source": [
    "#find time and date\n",
    "date = soup.find('h5')\n",
    "tanggal = date.text.split()\n",
    "tanggal[2] = tanggal[2][-2:]\n",
    "bulan = ['januari', 'februari', 'maret', 'april', 'mei', 'juni','juli','agustus', 'september', 'oktober','november','desember']\n",
    "bln = bulan.index(tanggal[3].lower())+1\n",
    "tanggal_update = tanggal[4]+'-'+str(bln)+'-'+tanggal[2]\n",
    "dates = dt.strptime(tanggal_update, '%Y-%m-%d').strftime('%Y-%m-%d')\n",
    "\n",
    "now = dt.now().strftime('%Y-%m-%d')"
   ]
  },
  {
   "cell_type": "code",
   "execution_count": 4,
   "metadata": {},
   "outputs": [
    {
     "data": {
      "text/plain": [
       "'2021-07-12'"
      ]
     },
     "execution_count": 4,
     "metadata": {},
     "output_type": "execute_result"
    }
   ],
   "source": [
    "dates"
   ]
  },
  {
   "cell_type": "code",
   "execution_count": 5,
   "metadata": {},
   "outputs": [],
   "source": [
    "#create list\n",
    "scrape_date = []\n",
    "date_update = []\n",
    "total_odp = []\n",
    "total_pdp = []\n",
    "total_positif = []\n",
    "positif_sembuh = []\n",
    "positif_isolasi = []\n",
    "positif_dirawat = []\n",
    "positif_meninggal = []\n",
    "source_link = []"
   ]
  },
  {
   "cell_type": "code",
   "execution_count": 6,
   "metadata": {},
   "outputs": [],
   "source": [
    "#append data to list\n",
    "for (i, link) in enumerate(div1):\n",
    "  if i in range(2, len(div1), 5):\n",
    "    total_odp.append(link.get_text())\n",
    "  if i in range(3, len(div1), 5):\n",
    "    total_pdp.append(link.get_text())\n",
    "  if i in range(4, len(div1), 5):\n",
    "    total_positif.append(link.get_text())"
   ]
  },
  {
   "cell_type": "code",
   "execution_count": 7,
   "metadata": {},
   "outputs": [],
   "source": [
    "#append data to list\n",
    "for (i, link) in enumerate(div2):\n",
    "  if i in range(8, len(div2), 11):\n",
    "    positif_dirawat.append(link.get_text())\n",
    "  if i in range(9, len(div2), 11):\n",
    "    positif_sembuh.append(link.get_text())\n",
    "  if i in range(10, len(div2), 11):\n",
    "    positif_meninggal.append(link.get_text())\n",
    "  if i in range(8, len(div2), 11):\n",
    "    scrape_date.append(now)\n",
    "  if i in range(8, len(div2), 11):\n",
    "    date_update.append(dates)\n",
    "  if i in range(8, len(div2), 11):\n",
    "    source_link.append(url)\n",
    "  if i in range(8, len(div2), 11):\n",
    "    positif_isolasi.append('')"
   ]
  },
  {
   "cell_type": "code",
   "execution_count": 8,
   "metadata": {},
   "outputs": [],
   "source": [
    "#create table\n",
    "df = pd.DataFrame()\n",
    "df['scrape_date'] = scrape_date\n",
    "df['date_update'] = date_update\n",
    "df['total_odp'] = total_odp\n",
    "df['total_pdp'] = total_pdp\n",
    "df['total_positif'] = total_positif\n",
    "df['positif_sembuh'] = positif_sembuh\n",
    "df['positif_dirawat'] = positif_dirawat\n",
    "df['positif_isolasi'] = positif_isolasi\n",
    "df['positif_meninggal'] = positif_meninggal\n",
    "df['source_link'] = source_link\n",
    "df.insert(2,column='provinsi', value='Bali')\n",
    "df.insert(3,column='kabkot', value='Bangli')\n",
    "df.insert(4,column='kecamatan', value='')\n",
    "df.insert(5,column='kelurahan', value='')\n",
    "df.insert(14,column='types', value='kabkot')\n",
    "df.insert(15,column='user_pic', value='Muslar')"
   ]
  },
  {
   "cell_type": "code",
   "execution_count": 9,
   "metadata": {},
   "outputs": [
    {
     "data": {
      "text/html": [
       "<div>\n",
       "<style scoped>\n",
       "    .dataframe tbody tr th:only-of-type {\n",
       "        vertical-align: middle;\n",
       "    }\n",
       "\n",
       "    .dataframe tbody tr th {\n",
       "        vertical-align: top;\n",
       "    }\n",
       "\n",
       "    .dataframe thead th {\n",
       "        text-align: right;\n",
       "    }\n",
       "</style>\n",
       "<table border=\"1\" class=\"dataframe\">\n",
       "  <thead>\n",
       "    <tr style=\"text-align: right;\">\n",
       "      <th></th>\n",
       "      <th>scrape_date</th>\n",
       "      <th>date_update</th>\n",
       "      <th>provinsi</th>\n",
       "      <th>kabkot</th>\n",
       "      <th>kecamatan</th>\n",
       "      <th>kelurahan</th>\n",
       "      <th>total_odp</th>\n",
       "      <th>total_pdp</th>\n",
       "      <th>total_positif</th>\n",
       "      <th>positif_sembuh</th>\n",
       "      <th>positif_dirawat</th>\n",
       "      <th>positif_isolasi</th>\n",
       "      <th>positif_meninggal</th>\n",
       "      <th>source_link</th>\n",
       "      <th>types</th>\n",
       "      <th>user_pic</th>\n",
       "    </tr>\n",
       "  </thead>\n",
       "  <tbody>\n",
       "    <tr>\n",
       "      <th>0</th>\n",
       "      <td>2021-09-03</td>\n",
       "      <td>2021-07-12</td>\n",
       "      <td>Bali</td>\n",
       "      <td>Bangli</td>\n",
       "      <td></td>\n",
       "      <td></td>\n",
       "      <td>34</td>\n",
       "      <td>15</td>\n",
       "      <td>2712</td>\n",
       "      <td>2485</td>\n",
       "      <td>104</td>\n",
       "      <td></td>\n",
       "      <td>123</td>\n",
       "      <td>https://covid19.banglikab.go.id/</td>\n",
       "      <td>kabkot</td>\n",
       "      <td>Muslar</td>\n",
       "    </tr>\n",
       "  </tbody>\n",
       "</table>\n",
       "</div>"
      ],
      "text/plain": [
       "  scrape_date date_update provinsi  kabkot kecamatan kelurahan total_odp  \\\n",
       "0  2021-09-03  2021-07-12     Bali  Bangli                            34   \n",
       "\n",
       "  total_pdp total_positif positif_sembuh positif_dirawat positif_isolasi  \\\n",
       "0        15          2712           2485             104                   \n",
       "\n",
       "  positif_meninggal                       source_link   types user_pic  \n",
       "0               123  https://covid19.banglikab.go.id/  kabkot   Muslar  "
      ]
     },
     "execution_count": 9,
     "metadata": {},
     "output_type": "execute_result"
    }
   ],
   "source": [
    "df"
   ]
  },
  {
   "cell_type": "code",
   "execution_count": null,
   "metadata": {},
   "outputs": [],
   "source": []
  }
 ],
 "metadata": {
  "kernelspec": {
   "display_name": "Python 3",
   "language": "python",
   "name": "python3"
  },
  "language_info": {
   "codemirror_mode": {
    "name": "ipython",
    "version": 3
   },
   "file_extension": ".py",
   "mimetype": "text/x-python",
   "name": "python",
   "nbconvert_exporter": "python",
   "pygments_lexer": "ipython3",
   "version": "3.8.8"
  }
 },
 "nbformat": 4,
 "nbformat_minor": 4
}
